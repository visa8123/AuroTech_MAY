{
 "cells": [
  {
   "cell_type": "code",
   "execution_count": 40,
   "id": "29276f46-6484-4f34-8422-812032d96551",
   "metadata": {},
   "outputs": [],
   "source": [
    "import qrcode\n",
    "import os\n",
    "import cv2\n",
    "from PIL import Image"
   ]
  },
  {
   "cell_type": "code",
   "execution_count": 41,
   "id": "b5b01d30-a7f2-4429-98b2-19b870fd57da",
   "metadata": {},
   "outputs": [
    {
     "name": "stdout",
     "output_type": "stream",
     "text": [
      "QR code generated and saved to qrgenerated_img.png\n"
     ]
    }
   ],
   "source": [
    "def generate_qr_code(data,file_name):\n",
    "    qr = qrcode.QRCode(\n",
    "        version = 1,\n",
    "        error_correction =  qrcode.constants.ERROR_CORRECT_L,\n",
    "        box_size = 15,\n",
    "        border = 4,\n",
    "    )\n",
    "    qr.add_data(data)\n",
    "    qr.make(fit=True)\n",
    "    img = qr.make_image(fill=\"black\",back_color=\"white\")\n",
    "    img.save(file_name)\n",
    "    print(f\"QR code generated and saved to {file_name}\")\n",
    "       \n",
    "    \n",
    "if __name__ ==\"__main__\":\n",
    "    data = \"https://www.example.com\"\n",
    "    file_name = \"qrgenerated_img.png\"\n",
    "    generate_qr_code(data,file_name)\n",
    "    "
   ]
  },
  {
   "cell_type": "code",
   "execution_count": 42,
   "id": "59ac1e96-2ccf-4beb-a9fe-016129411646",
   "metadata": {},
   "outputs": [
    {
     "name": "stdout",
     "output_type": "stream",
     "text": [
      "Decoded data from QR code: https://www.example.com\n"
     ]
    }
   ],
   "source": [
    "from pyzbar.pyzbar import decode\n",
    "\n",
    "def decode_qr_code(file_name):\n",
    "    img =  Image.open(file_name)\n",
    "    decoded_obj =decode(img)\n",
    "    if decoded_obj:\n",
    "        qr_data = decoded_obj[0].data.decode('utf-8')\n",
    "        return qr_data\n",
    "    else:\n",
    "        return None\n",
    "if __name__ == \"__main__\":\n",
    "    file_name = \"qrgenerated_img.png\"\n",
    "    data = decode_qr_code(file_name)\n",
    "    if data:\n",
    "        print(f\"Decoded data from QR code: {data}\")\n",
    "    else:\n",
    "        print(f\"No QR code found in the image\")\n"
   ]
  },
  {
   "cell_type": "code",
   "execution_count": null,
   "id": "fd1a0e57-bdf5-4dfe-8743-d3b34660e43f",
   "metadata": {},
   "outputs": [],
   "source": []
  }
 ],
 "metadata": {
  "kernelspec": {
   "display_name": "Python 3 (ipykernel)",
   "language": "python",
   "name": "python3"
  },
  "language_info": {
   "codemirror_mode": {
    "name": "ipython",
    "version": 3
   },
   "file_extension": ".py",
   "mimetype": "text/x-python",
   "name": "python",
   "nbconvert_exporter": "python",
   "pygments_lexer": "ipython3",
   "version": "3.11.5"
  }
 },
 "nbformat": 4,
 "nbformat_minor": 5
}
